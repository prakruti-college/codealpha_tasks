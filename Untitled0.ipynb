{
  "cells": [
    {
      "cell_type": "code",
      "execution_count": 2,
      "metadata": {
        "id": "VmIu4CpUEPnW"
      },
      "outputs": [],
      "source": [
        "import pandas as pd\n"
      ]
    },
    {
      "cell_type": "code",
      "execution_count": 3,
      "metadata": {
        "id": "KMFIXznzEX4K"
      },
      "outputs": [],
      "source": [
        "df = pd.read_csv(\"spotify_millsongdata.csv\")"
      ]
    },
    {
      "cell_type": "code",
      "execution_count": 4,
      "metadata": {
        "colab": {
          "base_uri": "https://localhost:8080/",
          "height": 310
        },
        "id": "_l1hFJxhGU2J",
        "outputId": "5a900c91-899d-4233-d16e-cbd0b85ead39"
      },
      "outputs": [
        {
          "data": {
            "text/html": [
              "<div>\n",
              "<style scoped>\n",
              "    .dataframe tbody tr th:only-of-type {\n",
              "        vertical-align: middle;\n",
              "    }\n",
              "\n",
              "    .dataframe tbody tr th {\n",
              "        vertical-align: top;\n",
              "    }\n",
              "\n",
              "    .dataframe thead th {\n",
              "        text-align: right;\n",
              "    }\n",
              "</style>\n",
              "<table border=\"1\" class=\"dataframe\">\n",
              "  <thead>\n",
              "    <tr style=\"text-align: right;\">\n",
              "      <th></th>\n",
              "      <th>artist</th>\n",
              "      <th>song</th>\n",
              "      <th>link</th>\n",
              "      <th>text</th>\n",
              "    </tr>\n",
              "  </thead>\n",
              "  <tbody>\n",
              "    <tr>\n",
              "      <th>0</th>\n",
              "      <td>ABBA</td>\n",
              "      <td>Ahe's My Kind Of Girl</td>\n",
              "      <td>/a/abba/ahes+my+kind+of+girl_20598417.html</td>\n",
              "      <td>Look at her face, it's a wonderful face  \\r\\nA...</td>\n",
              "    </tr>\n",
              "    <tr>\n",
              "      <th>1</th>\n",
              "      <td>ABBA</td>\n",
              "      <td>Andante, Andante</td>\n",
              "      <td>/a/abba/andante+andante_20002708.html</td>\n",
              "      <td>Take it easy with me, please  \\r\\nTouch me gen...</td>\n",
              "    </tr>\n",
              "    <tr>\n",
              "      <th>2</th>\n",
              "      <td>ABBA</td>\n",
              "      <td>As Good As New</td>\n",
              "      <td>/a/abba/as+good+as+new_20003033.html</td>\n",
              "      <td>I'll never know why I had to go  \\r\\nWhy I had...</td>\n",
              "    </tr>\n",
              "    <tr>\n",
              "      <th>3</th>\n",
              "      <td>ABBA</td>\n",
              "      <td>Bang</td>\n",
              "      <td>/a/abba/bang_20598415.html</td>\n",
              "      <td>Making somebody happy is a question of give an...</td>\n",
              "    </tr>\n",
              "    <tr>\n",
              "      <th>4</th>\n",
              "      <td>ABBA</td>\n",
              "      <td>Bang-A-Boomerang</td>\n",
              "      <td>/a/abba/bang+a+boomerang_20002668.html</td>\n",
              "      <td>Making somebody happy is a question of give an...</td>\n",
              "    </tr>\n",
              "  </tbody>\n",
              "</table>\n",
              "</div>"
            ],
            "text/plain": [
              "  artist                   song                                        link  \\\n",
              "0   ABBA  Ahe's My Kind Of Girl  /a/abba/ahes+my+kind+of+girl_20598417.html   \n",
              "1   ABBA       Andante, Andante       /a/abba/andante+andante_20002708.html   \n",
              "2   ABBA         As Good As New        /a/abba/as+good+as+new_20003033.html   \n",
              "3   ABBA                   Bang                  /a/abba/bang_20598415.html   \n",
              "4   ABBA       Bang-A-Boomerang      /a/abba/bang+a+boomerang_20002668.html   \n",
              "\n",
              "                                                text  \n",
              "0  Look at her face, it's a wonderful face  \\r\\nA...  \n",
              "1  Take it easy with me, please  \\r\\nTouch me gen...  \n",
              "2  I'll never know why I had to go  \\r\\nWhy I had...  \n",
              "3  Making somebody happy is a question of give an...  \n",
              "4  Making somebody happy is a question of give an...  "
            ]
          },
          "execution_count": 4,
          "metadata": {},
          "output_type": "execute_result"
        }
      ],
      "source": [
        "df.head(5)\n"
      ]
    },
    {
      "cell_type": "code",
      "execution_count": 5,
      "metadata": {
        "colab": {
          "base_uri": "https://localhost:8080/",
          "height": 380
        },
        "id": "4XuBFsxIGXVv",
        "outputId": "6a5c82ad-20b3-45d0-8acc-37e9bfde803b"
      },
      "outputs": [
        {
          "data": {
            "text/html": [
              "<div>\n",
              "<style scoped>\n",
              "    .dataframe tbody tr th:only-of-type {\n",
              "        vertical-align: middle;\n",
              "    }\n",
              "\n",
              "    .dataframe tbody tr th {\n",
              "        vertical-align: top;\n",
              "    }\n",
              "\n",
              "    .dataframe thead th {\n",
              "        text-align: right;\n",
              "    }\n",
              "</style>\n",
              "<table border=\"1\" class=\"dataframe\">\n",
              "  <thead>\n",
              "    <tr style=\"text-align: right;\">\n",
              "      <th></th>\n",
              "      <th>artist</th>\n",
              "      <th>song</th>\n",
              "      <th>link</th>\n",
              "      <th>text</th>\n",
              "    </tr>\n",
              "  </thead>\n",
              "  <tbody>\n",
              "    <tr>\n",
              "      <th>57645</th>\n",
              "      <td>Ziggy Marley</td>\n",
              "      <td>Good Old Days</td>\n",
              "      <td>/z/ziggy+marley/good+old+days_10198588.html</td>\n",
              "      <td>Irie days come on play  \\r\\nLet the angels fly...</td>\n",
              "    </tr>\n",
              "    <tr>\n",
              "      <th>57646</th>\n",
              "      <td>Ziggy Marley</td>\n",
              "      <td>Hand To Mouth</td>\n",
              "      <td>/z/ziggy+marley/hand+to+mouth_20531167.html</td>\n",
              "      <td>Power to the workers  \\r\\nMore power  \\r\\nPowe...</td>\n",
              "    </tr>\n",
              "    <tr>\n",
              "      <th>57647</th>\n",
              "      <td>Zwan</td>\n",
              "      <td>Come With Me</td>\n",
              "      <td>/z/zwan/come+with+me_20148981.html</td>\n",
              "      <td>all you need  \\r\\nis something i'll believe  \\...</td>\n",
              "    </tr>\n",
              "    <tr>\n",
              "      <th>57648</th>\n",
              "      <td>Zwan</td>\n",
              "      <td>Desire</td>\n",
              "      <td>/z/zwan/desire_20148986.html</td>\n",
              "      <td>northern star  \\r\\nam i frightened  \\r\\nwhere ...</td>\n",
              "    </tr>\n",
              "    <tr>\n",
              "      <th>57649</th>\n",
              "      <td>Zwan</td>\n",
              "      <td>Heartsong</td>\n",
              "      <td>/z/zwan/heartsong_20148991.html</td>\n",
              "      <td>come in  \\r\\nmake yourself at home  \\r\\ni'm a ...</td>\n",
              "    </tr>\n",
              "  </tbody>\n",
              "</table>\n",
              "</div>"
            ],
            "text/plain": [
              "             artist           song  \\\n",
              "57645  Ziggy Marley  Good Old Days   \n",
              "57646  Ziggy Marley  Hand To Mouth   \n",
              "57647          Zwan   Come With Me   \n",
              "57648          Zwan         Desire   \n",
              "57649          Zwan      Heartsong   \n",
              "\n",
              "                                              link  \\\n",
              "57645  /z/ziggy+marley/good+old+days_10198588.html   \n",
              "57646  /z/ziggy+marley/hand+to+mouth_20531167.html   \n",
              "57647           /z/zwan/come+with+me_20148981.html   \n",
              "57648                 /z/zwan/desire_20148986.html   \n",
              "57649              /z/zwan/heartsong_20148991.html   \n",
              "\n",
              "                                                    text  \n",
              "57645  Irie days come on play  \\r\\nLet the angels fly...  \n",
              "57646  Power to the workers  \\r\\nMore power  \\r\\nPowe...  \n",
              "57647  all you need  \\r\\nis something i'll believe  \\...  \n",
              "57648  northern star  \\r\\nam i frightened  \\r\\nwhere ...  \n",
              "57649  come in  \\r\\nmake yourself at home  \\r\\ni'm a ...  "
            ]
          },
          "execution_count": 5,
          "metadata": {},
          "output_type": "execute_result"
        }
      ],
      "source": [
        "df.tail(5)"
      ]
    },
    {
      "cell_type": "code",
      "execution_count": 6,
      "metadata": {
        "colab": {
          "base_uri": "https://localhost:8080/"
        },
        "id": "UeUNyolfGcSy",
        "outputId": "c9ae097d-9c36-4280-d2b8-1cdfe85f7888"
      },
      "outputs": [
        {
          "data": {
            "text/plain": [
              "(57650, 4)"
            ]
          },
          "execution_count": 6,
          "metadata": {},
          "output_type": "execute_result"
        }
      ],
      "source": [
        "df.shape\n"
      ]
    },
    {
      "cell_type": "code",
      "execution_count": 7,
      "metadata": {
        "colab": {
          "base_uri": "https://localhost:8080/",
          "height": 210
        },
        "id": "orWXDRmoGfev",
        "outputId": "193f0b4f-1001-4b2a-a716-6fd5c4f2c8cd"
      },
      "outputs": [
        {
          "data": {
            "text/plain": [
              "artist    0\n",
              "song      0\n",
              "link      0\n",
              "text      0\n",
              "dtype: int64"
            ]
          },
          "execution_count": 7,
          "metadata": {},
          "output_type": "execute_result"
        }
      ],
      "source": [
        "df.isnull().sum()\n"
      ]
    },
    {
      "cell_type": "code",
      "execution_count": 8,
      "metadata": {
        "id": "30JilhP8Gh8j"
      },
      "outputs": [],
      "source": [
        "df =df.sample(5000).drop('link', axis=1).reset_index(drop=True)\n"
      ]
    },
    {
      "cell_type": "code",
      "execution_count": 9,
      "metadata": {
        "colab": {
          "base_uri": "https://localhost:8080/",
          "height": 432
        },
        "id": "1bVHE7QiGnXU",
        "outputId": "2dae8e1e-4b72-4d86-e717-5809385e478f"
      },
      "outputs": [
        {
          "data": {
            "text/html": [
              "<div>\n",
              "<style scoped>\n",
              "    .dataframe tbody tr th:only-of-type {\n",
              "        vertical-align: middle;\n",
              "    }\n",
              "\n",
              "    .dataframe tbody tr th {\n",
              "        vertical-align: top;\n",
              "    }\n",
              "\n",
              "    .dataframe thead th {\n",
              "        text-align: right;\n",
              "    }\n",
              "</style>\n",
              "<table border=\"1\" class=\"dataframe\">\n",
              "  <thead>\n",
              "    <tr style=\"text-align: right;\">\n",
              "      <th></th>\n",
              "      <th>artist</th>\n",
              "      <th>song</th>\n",
              "      <th>text</th>\n",
              "    </tr>\n",
              "  </thead>\n",
              "  <tbody>\n",
              "    <tr>\n",
              "      <th>0</th>\n",
              "      <td>Hank Williams</td>\n",
              "      <td>A Stranger In The Night</td>\n",
              "      <td>Key of d  \\r\\n(d) I'm lonesome for someone, to...</td>\n",
              "    </tr>\n",
              "    <tr>\n",
              "      <th>1</th>\n",
              "      <td>Bryan White</td>\n",
              "      <td>Winter Wonderland</td>\n",
              "      <td>Sleigh bells ring, are you listenin'?  \\r\\nIn ...</td>\n",
              "    </tr>\n",
              "    <tr>\n",
              "      <th>2</th>\n",
              "      <td>Pearl Jam</td>\n",
              "      <td>Army Reserve</td>\n",
              "      <td>How long must she stand  \\r\\nBefore the ground...</td>\n",
              "    </tr>\n",
              "    <tr>\n",
              "      <th>3</th>\n",
              "      <td>Lionel Richie</td>\n",
              "      <td>You Mean More To Me</td>\n",
              "      <td>You mean more to me,  \\r\\nThan words can ever ...</td>\n",
              "    </tr>\n",
              "    <tr>\n",
              "      <th>4</th>\n",
              "      <td>Justin Bieber</td>\n",
              "      <td>What Does She Want</td>\n",
              "      <td>Why does she even obsess about her life with m...</td>\n",
              "    </tr>\n",
              "    <tr>\n",
              "      <th>5</th>\n",
              "      <td>Celine Dion</td>\n",
              "      <td>A New Day Has Come</td>\n",
              "      <td>I was waiting for so long  \\r\\nFor a miracle t...</td>\n",
              "    </tr>\n",
              "    <tr>\n",
              "      <th>6</th>\n",
              "      <td>Linkin Park</td>\n",
              "      <td>In My Remains</td>\n",
              "      <td>Separate, sifting through the wreckage  \\r\\nI ...</td>\n",
              "    </tr>\n",
              "    <tr>\n",
              "      <th>7</th>\n",
              "      <td>Judas Priest</td>\n",
              "      <td>Riding On The Wind</td>\n",
              "      <td>Shooting for the stars  \\r\\nCruise the speed o...</td>\n",
              "    </tr>\n",
              "    <tr>\n",
              "      <th>8</th>\n",
              "      <td>David Bowie</td>\n",
              "      <td>Baby Grace</td>\n",
              "      <td>Test, testing, testing  \\r\\nThis, hmmm, Grace ...</td>\n",
              "    </tr>\n",
              "    <tr>\n",
              "      <th>9</th>\n",
              "      <td>Kiss</td>\n",
              "      <td>God Gave Rock 'n' Roll To You</td>\n",
              "      <td>God gave rock and roll to you, gave rock and r...</td>\n",
              "    </tr>\n",
              "  </tbody>\n",
              "</table>\n",
              "</div>"
            ],
            "text/plain": [
              "          artist                           song  \\\n",
              "0  Hank Williams        A Stranger In The Night   \n",
              "1    Bryan White              Winter Wonderland   \n",
              "2      Pearl Jam                   Army Reserve   \n",
              "3  Lionel Richie            You Mean More To Me   \n",
              "4  Justin Bieber             What Does She Want   \n",
              "5    Celine Dion             A New Day Has Come   \n",
              "6    Linkin Park                  In My Remains   \n",
              "7   Judas Priest             Riding On The Wind   \n",
              "8    David Bowie                     Baby Grace   \n",
              "9           Kiss  God Gave Rock 'n' Roll To You   \n",
              "\n",
              "                                                text  \n",
              "0  Key of d  \\r\\n(d) I'm lonesome for someone, to...  \n",
              "1  Sleigh bells ring, are you listenin'?  \\r\\nIn ...  \n",
              "2  How long must she stand  \\r\\nBefore the ground...  \n",
              "3  You mean more to me,  \\r\\nThan words can ever ...  \n",
              "4  Why does she even obsess about her life with m...  \n",
              "5  I was waiting for so long  \\r\\nFor a miracle t...  \n",
              "6  Separate, sifting through the wreckage  \\r\\nI ...  \n",
              "7  Shooting for the stars  \\r\\nCruise the speed o...  \n",
              "8  Test, testing, testing  \\r\\nThis, hmmm, Grace ...  \n",
              "9  God gave rock and roll to you, gave rock and r...  "
            ]
          },
          "execution_count": 9,
          "metadata": {},
          "output_type": "execute_result"
        }
      ],
      "source": [
        "df.head(10)\n"
      ]
    },
    {
      "cell_type": "code",
      "execution_count": 10,
      "metadata": {
        "colab": {
          "base_uri": "https://localhost:8080/",
          "height": 122
        },
        "id": "basNOoTaGtP8",
        "outputId": "840715bd-db24-4744-81d8-4fa3ed4b662a"
      },
      "outputs": [
        {
          "data": {
            "text/plain": [
              "\"Key of d  \\r\\n(d) I'm lonesome for someone, to (g) kiss me good - (d) night,  \\r\\nJust the way you used to (a7) do,  \\r\\nMy (d) achin heart needs someone, to (g) shine loves (d) light,  \\r\\nFor without you, Ill (a7) always be (d) blue.  \\r\\n  \\r\\n1st chorus  \\r\\n(d) if I (g) don't have you, to (d) help me along,  \\r\\nI (g) know I can never go (d) right,  \\r\\nWith - (g) out you beside me, to (d) show me the way,  \\r\\nI'm lost, like a (a7) stranger in the (d) night.  \\r\\n  \\r\\nLike a lonely dove that flies, from pine to pine,  \\r\\nMy heart can't be gay and light,  \\r\\nLike sightless eyes, that will never see the sun,  \\r\\nI'm lost, like a stranger in the night.  \\r\\n  \\r\\n2nd chorus  \\r\\nTheres no need for me, to even try,  \\r\\nNothin will turn out right,  \\r\\nWhen I lost your love, I lost the will to live,  \\r\\nAnd I'm lost, like a stranger in the night  \\r\\n  \\r\\n3rd chorus  \\r\\nLike a broken heart, that's lost on lifes sea,  \\r\\nTho I pray with all my might,  \\r\\nI know I can't face, to - morrow alone,  \\r\\nAnd I'm lost, like a stranger in the night.\\r\\n\\r\\n\""
            ]
          },
          "execution_count": 10,
          "metadata": {},
          "output_type": "execute_result"
        }
      ],
      "source": [
        "df['text'][0]\n"
      ]
    },
    {
      "cell_type": "code",
      "execution_count": 11,
      "metadata": {
        "id": "OQ2XwtQIKvsL"
      },
      "outputs": [],
      "source": [
        "df = df.sample(5000)"
      ]
    },
    {
      "cell_type": "code",
      "execution_count": 12,
      "metadata": {
        "colab": {
          "base_uri": "https://localhost:8080/"
        },
        "id": "fWydMp48Gxwt",
        "outputId": "b164f109-ab8e-4ae0-c1c7-45380c177b59"
      },
      "outputs": [
        {
          "data": {
            "text/plain": [
              "(5000, 3)"
            ]
          },
          "execution_count": 12,
          "metadata": {},
          "output_type": "execute_result"
        }
      ],
      "source": [
        "df.shape\n"
      ]
    },
    {
      "cell_type": "code",
      "execution_count": 13,
      "metadata": {
        "id": "mz0zBlQYGzQK"
      },
      "outputs": [],
      "source": [
        "df['text'] = df['text'].str.lower().replace(r'^\\w\\s', ' ').replace(r'\\n', ' ', regex = True)\n"
      ]
    },
    {
      "cell_type": "code",
      "execution_count": 14,
      "metadata": {
        "colab": {
          "base_uri": "https://localhost:8080/",
          "height": 258
        },
        "id": "8JvdXUpwG-m_",
        "outputId": "9cb21312-8274-46d9-bdef-d9f585ca20d2"
      },
      "outputs": [
        {
          "data": {
            "text/html": [
              "<div>\n",
              "<style scoped>\n",
              "    .dataframe tbody tr th:only-of-type {\n",
              "        vertical-align: middle;\n",
              "    }\n",
              "\n",
              "    .dataframe tbody tr th {\n",
              "        vertical-align: top;\n",
              "    }\n",
              "\n",
              "    .dataframe thead th {\n",
              "        text-align: right;\n",
              "    }\n",
              "</style>\n",
              "<table border=\"1\" class=\"dataframe\">\n",
              "  <thead>\n",
              "    <tr style=\"text-align: right;\">\n",
              "      <th></th>\n",
              "      <th>artist</th>\n",
              "      <th>song</th>\n",
              "      <th>text</th>\n",
              "    </tr>\n",
              "  </thead>\n",
              "  <tbody>\n",
              "    <tr>\n",
              "      <th>2047</th>\n",
              "      <td>Bob Marley</td>\n",
              "      <td>Dreamland</td>\n",
              "      <td>there's a land that i have heard about  \\r   \\...</td>\n",
              "    </tr>\n",
              "    <tr>\n",
              "      <th>3274</th>\n",
              "      <td>Whitney Houston</td>\n",
              "      <td>Nothin' But Love</td>\n",
              "      <td>here i sit by my window thinking about all the...</td>\n",
              "    </tr>\n",
              "    <tr>\n",
              "      <th>3715</th>\n",
              "      <td>Leann Rimes</td>\n",
              "      <td>For The First Time</td>\n",
              "      <td>up and down the stairs  \\r in and out the door...</td>\n",
              "    </tr>\n",
              "    <tr>\n",
              "      <th>2618</th>\n",
              "      <td>Iron Maiden</td>\n",
              "      <td>Journeyman</td>\n",
              "      <td>from the red sky of the east  \\r to the sunset...</td>\n",
              "    </tr>\n",
              "    <tr>\n",
              "      <th>594</th>\n",
              "      <td>Don Moen</td>\n",
              "      <td>All We Like Sheep</td>\n",
              "      <td>all we like sheep  \\r have gone astray  \\r eac...</td>\n",
              "    </tr>\n",
              "  </tbody>\n",
              "</table>\n",
              "</div>"
            ],
            "text/plain": [
              "               artist                song  \\\n",
              "2047       Bob Marley           Dreamland   \n",
              "3274  Whitney Houston    Nothin' But Love   \n",
              "3715      Leann Rimes  For The First Time   \n",
              "2618      Iron Maiden          Journeyman   \n",
              "594          Don Moen   All We Like Sheep   \n",
              "\n",
              "                                                   text  \n",
              "2047  there's a land that i have heard about  \\r   \\...  \n",
              "3274  here i sit by my window thinking about all the...  \n",
              "3715  up and down the stairs  \\r in and out the door...  \n",
              "2618  from the red sky of the east  \\r to the sunset...  \n",
              "594   all we like sheep  \\r have gone astray  \\r eac...  "
            ]
          },
          "execution_count": 14,
          "metadata": {},
          "output_type": "execute_result"
        }
      ],
      "source": [
        "df.tail(5)"
      ]
    },
    {
      "cell_type": "code",
      "execution_count": 16,
      "metadata": {
        "colab": {
          "base_uri": "https://localhost:8080/"
        },
        "id": "lwa8n4nJLI9k",
        "outputId": "7e91c3b8-b531-47e3-992b-8c54340df870"
      },
      "outputs": [
        {
          "name": "stderr",
          "output_type": "stream",
          "text": [
            "[nltk_data] Downloading package punkt_tab to\n",
            "[nltk_data]     C:\\Users\\admin\\AppData\\Roaming\\nltk_data...\n",
            "[nltk_data]   Unzipping tokenizers\\punkt_tab.zip.\n"
          ]
        }
      ],
      "source": [
        "import nltk\n",
        "nltk.download('punkt_tab')\n",
        "from nltk.stem.porter import PorterStemmer"
      ]
    },
    {
      "cell_type": "code",
      "execution_count": 17,
      "metadata": {
        "id": "Ylk8LopBLJ5E"
      },
      "outputs": [],
      "source": [
        "stemmer = PorterStemmer()"
      ]
    },
    {
      "cell_type": "code",
      "execution_count": 18,
      "metadata": {
        "id": "lMMoajHWLRE0"
      },
      "outputs": [],
      "source": [
        "def tokenization(txt):\n",
        "    tokens = nltk.word_tokenize(txt)\n",
        "    stemming = [stemmer.stem(w) for w in tokens]\n",
        "    return \" \".join(stemming)"
      ]
    },
    {
      "cell_type": "code",
      "execution_count": 19,
      "metadata": {
        "id": "NDC1N-iTMCc8"
      },
      "outputs": [],
      "source": [
        "df['text'] = df['text'].apply(lambda x: tokenization(x))"
      ]
    },
    {
      "cell_type": "code",
      "execution_count": 21,
      "metadata": {
        "id": "LEP43TqVMugT"
      },
      "outputs": [],
      "source": [
        "from sklearn.feature_extraction.text import TfidfVectorizer\n",
        "from sklearn.metrics.pairwise import cosine_similarity\n"
      ]
    },
    {
      "cell_type": "code",
      "execution_count": 22,
      "metadata": {
        "id": "WrSylzKsM0xL"
      },
      "outputs": [],
      "source": [
        "tfidvector = TfidfVectorizer(analyzer='word',stop_words='english')\n",
        "matrix = tfidvector.fit_transform(df['text'])\n",
        "similarity = cosine_similarity(matrix)\n"
      ]
    },
    {
      "cell_type": "code",
      "execution_count": 23,
      "metadata": {
        "colab": {
          "base_uri": "https://localhost:8080/"
        },
        "id": "n8u_8ZwrM1a2",
        "outputId": "6fd2ca69-3d59-4d1d-d077-826b2500ddd1"
      },
      "outputs": [
        {
          "data": {
            "text/plain": [
              "array([1.        , 0.02478183, 0.00538512, ..., 0.        , 0.00184281,\n",
              "       0.0071942 ], shape=(5000,))"
            ]
          },
          "execution_count": 23,
          "metadata": {},
          "output_type": "execute_result"
        }
      ],
      "source": [
        "similarity[0]\n"
      ]
    },
    {
      "cell_type": "code",
      "execution_count": 24,
      "metadata": {
        "colab": {
          "base_uri": "https://localhost:8080/",
          "height": 81
        },
        "id": "-iTPp5HMM-dC",
        "outputId": "c3122cf7-d156-4aa1-d8d7-80edbd4bd042"
      },
      "outputs": [
        {
          "data": {
            "text/html": [
              "<div>\n",
              "<style scoped>\n",
              "    .dataframe tbody tr th:only-of-type {\n",
              "        vertical-align: middle;\n",
              "    }\n",
              "\n",
              "    .dataframe tbody tr th {\n",
              "        vertical-align: top;\n",
              "    }\n",
              "\n",
              "    .dataframe thead th {\n",
              "        text-align: right;\n",
              "    }\n",
              "</style>\n",
              "<table border=\"1\" class=\"dataframe\">\n",
              "  <thead>\n",
              "    <tr style=\"text-align: right;\">\n",
              "      <th></th>\n",
              "      <th>artist</th>\n",
              "      <th>song</th>\n",
              "      <th>text</th>\n",
              "    </tr>\n",
              "  </thead>\n",
              "  <tbody>\n",
              "  </tbody>\n",
              "</table>\n",
              "</div>"
            ],
            "text/plain": [
              "Empty DataFrame\n",
              "Columns: [artist, song, text]\n",
              "Index: []"
            ]
          },
          "execution_count": 24,
          "metadata": {},
          "output_type": "execute_result"
        }
      ],
      "source": [
        "df[df['song'] == 'Crying Over You']\n"
      ]
    },
    {
      "cell_type": "code",
      "execution_count": 31,
      "metadata": {
        "id": "pkG-XBW7NA6Z"
      },
      "outputs": [],
      "source": [
        "def recommendation(song_df):\n",
        "    # Check if the song exists in the dataset\n",
        "    if song_df not in df['song'].values:\n",
        "        return f\"'{song_df}' not found in the song dataset. Please check the spelling or try another song.\"\n",
        "    \n",
        "    # Get the index of the song\n",
        "    idx = df[df['song'] == song_df].index[0]\n",
        "    \n",
        "    # Calculate similarity and sort distances\n",
        "    distances = sorted(list(enumerate(similarity[idx])), reverse=True, key=lambda x: x[1])\n",
        "\n",
        "    # Collect recommendations\n",
        "    songs = []\n",
        "    for m_id in distances[1:21]:  # Skip the first entry (itself)\n",
        "        songs.append(df.iloc[m_id[0]].song)\n",
        "\n",
        "    return songs"
      ]
    },
    {
      "cell_type": "code",
      "execution_count": 33,
      "metadata": {
        "colab": {
          "base_uri": "https://localhost:8080/"
        },
        "id": "XqQzrzBDNDMs",
        "outputId": "9dcdc30a-9817-48c6-b0e7-78ea7ecb19d4"
      },
      "outputs": [
        {
          "name": "stdout",
          "output_type": "stream",
          "text": [
            "['Angel', 'Send Me An Angel', 'Angel Eyes', 'Seeing You Again', 'Angels Cry', 'Have A Heart', 'We Still Have Dreams', \"Ain't No Angels\", 'It Came Upon A Midnight Clear', 'Devil In Her Heart', 'Queen Of The Night', 'Holy Spirit', 'Devil In Disguise', 'Heart Trouble', 'Show Me How To Love You', \"I'm In Love With Love\", 'Touch', 'Cold And Empty', 'Lullaby', 'Across The Bridge Where Angels Dwell']\n"
          ]
        }
      ],
      "source": [
        "print(recommendation('All We Like Sheep'))"
      ]
    },
    {
      "cell_type": "code",
      "execution_count": 34,
      "metadata": {
        "id": "U3DYjlKaNFHR"
      },
      "outputs": [],
      "source": [
        "import pickle\n",
        "pickle.dump(similarity,open('similarity.pkl','wb'))\n",
        "pickle.dump(df,open('df.pkl','wb'))"
      ]
    }
  ],
  "metadata": {
    "colab": {
      "provenance": []
    },
    "kernelspec": {
      "display_name": "Python 3",
      "name": "python3"
    },
    "language_info": {
      "codemirror_mode": {
        "name": "ipython",
        "version": 3
      },
      "file_extension": ".py",
      "mimetype": "text/x-python",
      "name": "python",
      "nbconvert_exporter": "python",
      "pygments_lexer": "ipython3",
      "version": "3.13.1"
    }
  },
  "nbformat": 4,
  "nbformat_minor": 0
}
